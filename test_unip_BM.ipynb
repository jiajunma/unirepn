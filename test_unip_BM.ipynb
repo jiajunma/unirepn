{
 "cells": [
  {
   "cell_type": "code",
   "execution_count": null,
   "metadata": {},
   "outputs": [],
   "source": [
    "%load_ext autoreload\n",
    "%autoreload 2\n",
    "from combunipotent import *\n"
   ]
  },
  {
   "cell_type": "code",
   "execution_count": null,
   "metadata": {},
   "outputs": [],
   "source": [
    "part, rtype = (2,2,2,2,2,2,1,1), 'M'\n",
    "#part, rtype = (2,2,2,2,2,2,2,2,2,2), 'M'\n",
    "\n",
    "part2drc(part,rtype=rtype,print_Wrepn=True,printdig=False)\n",
    "gg = gen_lift_graph(part,rtype,format='pdf')\n",
    "gg.render()\n",
    "display(gg)\n"
   ]
  },
  {
   "cell_type": "code",
   "execution_count": null,
   "metadata": {},
   "outputs": [],
   "source": [
    "part, rtype = (3,3,1,1), 'M'\n",
    "part2drc(part,rtype=rtype,print_Wrepn=True,printdig=True);"
   ]
  },
  {
   "cell_type": "code",
   "execution_count": null,
   "metadata": {},
   "outputs": [],
   "source": [
    "part = [7,7,6,6,5,5,4,4,3,3,2,2,1,1]\n",
    "part = [7,7,5,5,3,3,1,1]\n",
    "part = [13,13,2,2,1,1]\n",
    "#part = [3,3,2,2,1,1]\n",
    "#part = [2,2,1,1]\n",
    "part = [8,8,8,8,8,8,5,5,2,2,2,2,2,2,2,2]\n",
    "part = [4,4,4,4,4,4,2,2,2,2,2,2,2,2]\n",
    "rtype = 'M'\n",
    "test_purelyeven(part,rtype=rtype);\n",
    "\n"
   ]
  },
  {
   "cell_type": "code",
   "execution_count": null,
   "metadata": {},
   "outputs": [],
   "source": [
    "part = [7,5,5,3,3]\n",
    "#part = [5,4,4]\n",
    "part = [5,3,3]\n",
    "a = print_drc_diag_B(part,print_Wrepn=True)\n",
    "b = part2drc(part,'B',print_Wrepn=True,printdig=False)\n",
    "c = print_list_LS(part,'B')\n",
    "#compare_drc(a,b)\n"
   ]
  },
  {
   "cell_type": "code",
   "execution_count": null,
   "metadata": {},
   "outputs": [],
   "source": [
    "part = (8,8,7,7,5,5,1,1)\n",
    "rtype = 'M'\n",
    "test_purelyeven(part,rtype=rtype);"
   ]
  },
  {
   "cell_type": "code",
   "execution_count": null,
   "metadata": {},
   "outputs": [],
   "source": [
    "part = [2,2,2,2,2,2,2,2,1,1]\n",
    "rtype = 'M'\n",
    "test_purelyeven(part,rtype=rtype);\n"
   ]
  },
  {
   "cell_type": "code",
   "execution_count": null,
   "metadata": {},
   "outputs": [],
   "source": [
    "## Example of strange annihlation of LS\n",
    "test_LSDRC([8,3,3,1,1],'D',report=False,reportann=True)"
   ]
  },
  {
   "cell_type": "code",
   "execution_count": null,
   "metadata": {},
   "outputs": [],
   "source": [
    "test_LSDRC([4,3,3,2,2,1,1],'D',report=False, reportann=True)"
   ]
  },
  {
   "cell_type": "code",
   "execution_count": null,
   "metadata": {},
   "outputs": [],
   "source": [
    "partM = [3,3]\n",
    "DRCLS1 = lift_drcs(dict(),rtype='B',ltype=partM[-1])\n",
    "DRCLS2 = lift_drcs(DRCLS1, rtype='M', ltype='l')\n",
    "print_list_LS(partM,'M')\n",
    "print_DRCLS(DRCLS1, 'B')\n",
    "print('DRCLS',len(DRCLS2))\n",
    "print_DRCLS(DRCLS2,'M')"
   ]
  },
  {
   "cell_type": "code",
   "execution_count": null,
   "metadata": {},
   "outputs": [],
   "source": [
    "test_LSDRC([9,6,6,3,3,2,2,1,1],'B',report=False)"
   ]
  },
  {
   "cell_type": "code",
   "execution_count": null,
   "metadata": {},
   "outputs": [],
   "source": [
    "test_LSDRC([7,6,6,5,5,4,4,3,3,2,2,1,1],'B',report=False)"
   ]
  },
  {
   "cell_type": "code",
   "execution_count": null,
   "metadata": {},
   "outputs": [],
   "source": [
    "test_LSDRC([6,5,5,4,4,3,3,2,2,1,1],'D',report=False)"
   ]
  },
  {
   "cell_type": "code",
   "execution_count": null,
   "metadata": {},
   "outputs": [],
   "source": [
    "test_LSDRC([6,6,5,5,4,4,3,3,2,2,1,1],'M', report=False)"
   ]
  },
  {
   "cell_type": "code",
   "execution_count": null,
   "metadata": {},
   "outputs": [],
   "source": [
    "#part0, parta, rtype=(3,3,2,2,1,1), (3,3), 'C'\n",
    "part0, parta, rtype=(1,1), (1,1), 'C'\n",
    "part = parta*2+part0\n",
    "part2drc(part0,rtype, printdig=True)\n",
    "part2LS(part0,rtype, printdig=True)\n",
    "#part, rtype=[1,1,1,1], 'C'\n",
    "part2drc(part,rtype,printdig = True)\n",
    "part2LS(part,rtype, printdig=True)\n"
   ]
  },
  {
   "cell_type": "code",
   "execution_count": null,
   "metadata": {},
   "outputs": [],
   "source": [
    "#part,rtype=(4,3,3,1,1), 'D'\n",
    "part,rtype=(1,1,)*5,'C'\n",
    "test_LSDRC(part,rtype,report=True,reportann=False)"
   ]
  },
  {
   "cell_type": "code",
   "execution_count": null,
   "metadata": {},
   "outputs": [],
   "source": [
    "#part,rtype=(4,3,3,1,1), 'D'\n",
    "part,rtype=(5,5)*4+(3,3,)*5+(2,2),'C'\n",
    "#part,rtype=(6,6,2,2,1,1),'C'\n",
    "#part,rtype=(1,1,)*5,'C'\n",
    "part,rtype=(7,7)*5+(2,2)+(1,1)*4,'C'\n",
    "test_purelyeven(part,rtype,report=False,reportann=False)"
   ]
  },
  {
   "cell_type": "code",
   "execution_count": null,
   "metadata": {},
   "outputs": [],
   "source": [
    "#part,rtype=(4,3,3,1,1), 'D'\n",
    "#part,rtype=(5,5)*4+(4,4)+(3,3,)*4+(2,2)+(1,1,)*4,'C'\n",
    "part,rtype=(4,4)*5+(3,3)+(2,2,)*5,'M'\n",
    "#part,rtype=(2,2,)*4,'M'\n",
    "test_purelyeven(part,rtype,report=False,reportann=False)\n",
    "0"
   ]
  },
  {
   "cell_type": "code",
   "execution_count": null,
   "metadata": {},
   "outputs": [],
   "source": [
    "#part,rtype=(4,3,3,1,1), 'D' \n",
    "#part,rtype=(5,5)*4+(4,4)+(3,3,)*4+(2,2)+(1,1,)*4,'C'\n",
    "part,rtype=(3,3,)*5+(2,2),'C'\n",
    "test_purelyeven(part,rtype,report=False,reportann=False,reportpack=False)\n"
   ]
  },
  {
   "cell_type": "code",
   "execution_count": null,
   "metadata": {},
   "outputs": [],
   "source": [
    "#part,rtype=(4,3,3,1,1), 'D'\n",
    "#part,rtype=(5,5)*4+(4,4)+(3,3,)*4+(2,2)+(1,1,)*4,'C'\n",
    "#part,rtype=(4,4)*5+(3,3)+(2,2,)*5,'M'\n",
    "part,rtype=(4,2,2,),'D'\n",
    "test_purelyeven(part,rtype,report=True,reportann=False)"
   ]
  },
  {
   "cell_type": "code",
   "execution_count": null,
   "metadata": {},
   "outputs": [],
   "source": [
    "part,rtype=(2,1,1,),'D'\n",
    "test_purelyeven(part,rtype,report=False,reportann=False);"
   ]
  },
  {
   "cell_type": "code",
   "execution_count": null,
   "metadata": {},
   "outputs": [],
   "source": [
    "part,rtype=(3,1,1,),'D'\n",
    "test_purelyeven(part,rtype,report=True,reportann=False)\n",
    "0"
   ]
  },
  {
   "cell_type": "code",
   "execution_count": null,
   "metadata": {},
   "outputs": [],
   "source": [
    "''.join(range(0))"
   ]
  },
  {
   "cell_type": "code",
   "execution_count": null,
   "metadata": {},
   "outputs": [],
   "source": [
    "a = 'abc'\n",
    "('',*a)"
   ]
  },
  {
   "cell_type": "code",
   "execution_count": null,
   "metadata": {},
   "outputs": [],
   "source": [
    "from itertools import product\n",
    "import itertools\n",
    "len([x for x in product('ABCD', repeat=13)])"
   ]
  },
  {
   "cell_type": "code",
   "execution_count": null,
   "metadata": {},
   "outputs": [],
   "source": []
  }
 ],
 "metadata": {
  "kernelspec": {
   "display_name": "Python 3",
   "language": "python",
   "name": "python3"
  },
  "language_info": {
   "codemirror_mode": {
    "name": "ipython",
    "version": 3
   },
   "file_extension": ".py",
   "mimetype": "text/x-python",
   "name": "python",
   "nbconvert_exporter": "python",
   "pygments_lexer": "ipython3",
   "version": "3.8.5"
  }
 },
 "nbformat": 4,
 "nbformat_minor": 4
}
