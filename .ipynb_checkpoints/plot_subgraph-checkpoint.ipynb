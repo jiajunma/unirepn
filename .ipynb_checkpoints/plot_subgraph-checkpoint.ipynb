{
 "cells": [
  {
   "cell_type": "code",
   "execution_count": null,
   "metadata": {
    "jupyter": {
     "outputs_hidden": false
    }
   },
   "outputs": [],
   "source": [
    "%matplotlib inline"
   ]
  },
  {
   "cell_type": "markdown",
   "metadata": {},
   "source": [
    "\n",
    "# Subgraph\n",
    "\n",
    "Specify a subgraph in pygraphviz.\n"
   ]
  },
  {
   "cell_type": "code",
   "execution_count": null,
   "metadata": {
    "jupyter": {
     "outputs_hidden": false
    }
   },
   "outputs": [],
   "source": [
    "import pygraphviz as pgv\n",
    "from IPython.display import Image, SVG\n",
    "\n",
    "A = pgv.AGraph()\n",
    "# add some edges\n",
    "A.add_edge(1, 2)\n",
    "A.add_edge(2, 3)\n",
    "A.add_edge(1, 3)\n",
    "A.add_edge(3, 4)\n",
    "A.add_edge(3, 5)\n",
    "A.add_edge(3, 6)\n",
    "A.add_edge(4, 6)\n",
    "#A.delete_node(3)\n",
    "# make a subgraph with rank='same'\n",
    "B = A.add_subgraph([4, 5, 6], name=\"s1\", rank=\"same\")\n",
    "B.graph_attr[\"rank\"] = \"same\"\n",
    "print(A.string())  # print dot file to standard output\n",
    "fn = \"subgraph.svg\"\n",
    "A.draw(fn, prog=\"dot\")\n",
    "SVG(fn)"
   ]
  },
  {
   "cell_type": "code",
   "execution_count": null,
   "metadata": {},
   "outputs": [],
   "source": []
  }
 ],
 "metadata": {
  "kernelspec": {
   "display_name": "Python 3",
   "language": "python",
   "name": "python3"
  },
  "language_info": {
   "codemirror_mode": {
    "name": "ipython",
    "version": 3
   },
   "file_extension": ".py",
   "mimetype": "text/x-python",
   "name": "python",
   "nbconvert_exporter": "python",
   "pygments_lexer": "ipython3",
   "version": "3.8.5"
  }
 },
 "nbformat": 4,
 "nbformat_minor": 4
}
